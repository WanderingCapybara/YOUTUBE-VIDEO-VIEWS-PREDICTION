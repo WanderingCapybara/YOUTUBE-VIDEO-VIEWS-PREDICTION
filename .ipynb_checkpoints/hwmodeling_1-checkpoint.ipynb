{
 "cells": [
  {
   "cell_type": "code",
   "execution_count": 1,
   "id": "7c5f3ff5-65cd-484d-bd2d-edf361a44d9d",
   "metadata": {},
   "outputs": [],
   "source": [
    "import pandas as pd\n",
    "import numpy as np\n",
    "import warnings\n",
    "warnings.filterwarnings('ignore')"
   ]
  },
  {
   "cell_type": "code",
   "execution_count": 2,
   "id": "d62e5e24-b75e-4be5-b31b-7c146f3b1057",
   "metadata": {},
   "outputs": [],
   "source": [
    "from sklearn.linear_model import LinearRegression\n",
    "from sklearn.ensemble import RandomForestRegressor\n",
    "import xgboost as xgb\n",
    "from sklearn.metrics import mean_absolute_error, mean_squared_error, r2_score\n",
    "from sklearn.model_selection import train_test_split\n",
    "from sklearn.preprocessing import StandardScaler\n",
    "from sklearn.model_selection import GridSearchCV"
   ]
  },
  {
   "cell_type": "code",
   "execution_count": 3,
   "id": "9c3cfda6-2004-4628-ab65-a05ee9aface4",
   "metadata": {},
   "outputs": [],
   "source": [
    "df = pd.read_csv('hwdfnew.csv')"
   ]
  },
  {
   "cell_type": "code",
   "execution_count": 4,
   "id": "16811720-eb63-421a-b1e8-51f8fa7beeb4",
   "metadata": {},
   "outputs": [
    {
     "data": {
      "text/plain": [
       "Index(['trending_date', 'category_id', 'views', 'likes', 'dislikes',\n",
       "       'comment_count', 'comments_disabled', 'ratings_disabled',\n",
       "       'video_error_or_removed', 'no_tags', 'desc_len', 'len_title',\n",
       "       'log_category_id', 'log_views', 'log_likes', 'log_dislikes',\n",
       "       'log_comment_count', 'log_no_tags', 'log_desc_len', 'log_len_title'],\n",
       "      dtype='object')"
      ]
     },
     "execution_count": 4,
     "metadata": {},
     "output_type": "execute_result"
    }
   ],
   "source": [
    "df.columns"
   ]
  },
  {
   "cell_type": "markdown",
   "id": "b694c000-b60c-4082-8940-ffd0cb7d0e0b",
   "metadata": {
    "tags": []
   },
   "source": [
    "## Pembuatan Fungsi"
   ]
  },
  {
   "cell_type": "markdown",
   "id": "cb9fbb14-29f1-4845-a55d-264fe23f97c9",
   "metadata": {
    "tags": []
   },
   "source": [
    "### Function: Splitting"
   ]
  },
  {
   "cell_type": "code",
   "execution_count": 5,
   "id": "ba2c14f3-4fb3-47d4-9391-c48acc778ac7",
   "metadata": {},
   "outputs": [],
   "source": [
    "def splitting_a(X, y):\n",
    "    \n",
    "    # Split data train-test\n",
    "    X_train, X_test, y_train, y_test = train_test_split(X, y, test_size=0.3, random_state=42)\n",
    "    \n",
    "    # Standarisasi data\n",
    "    ss = StandardScaler()\n",
    "    \n",
    "    # Fitur untuk distandarisasi\n",
    "    columns_to_standardize = ['log_category_id', 'log_dislikes', 'log_comment_count', 'log_no_tags', 'log_desc_len', 'log_len_title']\n",
    "\n",
    "    # Standarisasi X_train\n",
    "    X_train[columns_to_standardize] = ss.fit_transform(X_train[columns_to_standardize])\n",
    "\n",
    "    # Standarisasi X_test\n",
    "    X_test[columns_to_standardize] = ss.transform(X_test[columns_to_standardize])\n",
    "    \n",
    "    return X_train, X_test, y_train, y_test"
   ]
  },
  {
   "cell_type": "code",
   "execution_count": 6,
   "id": "2ae2f6b0-ff60-4697-bf51-549c3145aaa3",
   "metadata": {},
   "outputs": [],
   "source": [
    "def splitting_b(X, y):\n",
    "    \n",
    "    # Standarisasi data\n",
    "    ss = StandardScaler()\n",
    "    \n",
    "    # Fitur untuk distandarisasi\n",
    "    columns_to_standardize = ['log_category_id', 'log_dislikes', 'log_comment_count', 'log_no_tags', 'log_desc_len', 'log_len_title']\n",
    "    \n",
    "    # Standarisasi X\n",
    "    X[columns_to_standardize] = ss.fit_transform(X[columns_to_standardize])\n",
    "    \n",
    "    # Split data train-test\n",
    "    X_train, X_test, y_train, y_test = train_test_split(X, y, test_size=0.3, random_state=42)\n",
    "    \n",
    "    return X_train, X_test, y_train, y_test"
   ]
  },
  {
   "cell_type": "markdown",
   "id": "af729c3b-4346-41ac-9cd8-8cd9b8d1bd0b",
   "metadata": {
    "tags": []
   },
   "source": [
    "### Function: Modelling"
   ]
  },
  {
   "cell_type": "code",
   "execution_count": 7,
   "id": "8b965df0-f301-4518-99c8-1be1e95bbdff",
   "metadata": {},
   "outputs": [],
   "source": [
    "def modelling(X_train, X_test, y_train, y_test):\n",
    "    \n",
    "    # Inisialisasi model\n",
    "    models = {\n",
    "        'Linear Regression': LinearRegression(),\n",
    "        'Random Forest': RandomForestRegressor(),\n",
    "        'XG Boosting': xgb.XGBRegressor()\n",
    "    }\n",
    "    \n",
    "    # Melatih dan menguji setiap model\n",
    "    results = {}\n",
    "    for model_name, model in models.items():\n",
    "        model.fit(X_train, y_train)\n",
    "        y_train_pred = model.predict(X_train)\n",
    "        y_test_pred = model.predict(X_test)\n",
    "        \n",
    "        mae_train = mean_absolute_error(y_train, y_train_pred).round(4)\n",
    "        mae_test = mean_absolute_error(y_test, y_test_pred).round(4)\n",
    "        \n",
    "        rmse_train = mean_squared_error(y_train, y_train_pred, squared=False).round(4)\n",
    "        rmse_test = mean_squared_error(y_test, y_test_pred, squared=False).round(4)\n",
    "        \n",
    "        r2_train = r2_score(y_train, y_train_pred).round(4)\n",
    "        r2_test = r2_score(y_test, y_test_pred).round(4)\n",
    "        \n",
    "        # Menampilkan score\n",
    "        results[model_name] = {\n",
    "            'MAE Train': mae_train,\n",
    "            'MAE Test': mae_test,\n",
    "            'RMSE Train': rmse_train,\n",
    "            'RMSE Test': rmse_test,\n",
    "            'R2 Train': r2_train,\n",
    "            'R2 Test': r2_test\n",
    "        }\n",
    "    \n",
    "    return results"
   ]
  },
  {
   "cell_type": "markdown",
   "id": "9736fabe-2393-4efe-9752-7b195c112183",
   "metadata": {
    "tags": []
   },
   "source": [
    "### Function: Feature Importance"
   ]
  },
  {
   "cell_type": "code",
   "execution_count": 26,
   "id": "014c7c3d-787a-4153-9da7-c51ef13bad17",
   "metadata": {},
   "outputs": [],
   "source": [
    "def get_feature(X_train, X_test, y_train, y_test, model_name):\n",
    "    \n",
    "    # Inisialisasi model\n",
    "    if model_name == 'RF':\n",
    "        model = RandomForestRegressor()\n",
    "    elif model_name == 'XGB':\n",
    "        model = xgb.XGBRegressor()\n",
    "    else:\n",
    "        raise ValueError(\"Model name not supported.\")\n",
    "    \n",
    "    # Melatih model\n",
    "    model.fit(X_train, y_train)\n",
    "    \n",
    "    # Mendapatkan skor fitur\n",
    "    feature_importance = model.feature_importances_\n",
    "\n",
    "    # Nama fitur dari X_train\n",
    "    feature_names = X_train.columns\n",
    "\n",
    "    # Membuat DataFrame untuk memudahkan analisis\n",
    "    feature_importance_df = pd.DataFrame({'Feature': feature_names, 'Importance': feature_importance})\n",
    "\n",
    "    # Mengurutkan fitur\n",
    "    feature_importance_df = feature_importance_df.sort_values(by='Importance', ascending=False)\n",
    "\n",
    "    # Menampilkan fitur\n",
    "    print(feature_importance_df)"
   ]
  },
  {
   "cell_type": "markdown",
   "id": "62e59827-ba30-4054-bbd8-726e3df21380",
   "metadata": {
    "tags": []
   },
   "source": [
    "### Function: Hyperparameters Tuning"
   ]
  },
  {
   "cell_type": "code",
   "execution_count": 9,
   "id": "84e37a7c-e80b-4cdd-88eb-8b9e305ebc2d",
   "metadata": {},
   "outputs": [],
   "source": [
    "def hypertune(X_train, X_test, y_train, y_test, model_name, hyperparameters=None):\n",
    "   \n",
    "    # Inisialisasi model\n",
    "    if model_name == 'RF':\n",
    "        model = RandomForestRegressor()\n",
    "    elif model_name == 'XGB':\n",
    "        model = xgb.XGBRegressor()\n",
    "    else:\n",
    "        raise ValueError(\"Model name not supported.\")\n",
    "    \n",
    "    # Menentukan hyperparameter yang akan ditune (jika tidak ada, gunakan default)\n",
    "    if hyperparameters is None:\n",
    "        hyperparameters = {}\n",
    "    \n",
    "    # Tuning hyperparameter menggunakan Grid Search\n",
    "    grid_search = GridSearchCV(model, hyperparameters, cv=5)\n",
    "    grid_search.fit(X_train, y_train)\n",
    "    \n",
    "    # Mendapatkan model terbaik setelah tuning\n",
    "    best_model = grid_search.best_estimator_\n",
    "    \n",
    "    # Evaluasi model terbaik pada data test\n",
    "    test_score = best_model.score(X_test, y_test)\n",
    "    \n",
    "    # Prediksi nilai target pada data test menggunakan model terbaik\n",
    "    y_pred = best_model.predict(X_test)\n",
    "    \n",
    "    # Menghitung MAE, RMSE, dan R-squared pada data test\n",
    "    mae = mean_absolute_error(y_test, y_pred)\n",
    "    rmse = mean_squared_error(y_test, y_pred, squared=False)\n",
    "    r2 = r2_score(y_test, y_pred)\n",
    "    \n",
    "    return best_model, grid_search.best_params_, test_score, mae, rmse, r2"
   ]
  },
  {
   "cell_type": "markdown",
   "id": "f062c9d1-3b98-4328-b3c4-d175d0eb4131",
   "metadata": {
    "tags": []
   },
   "source": [
    "# Case 1:\n",
    "\n",
    "- Normalisasi dilakukan setelah split data\n",
    "- Tanpa mengikutsertakan fitur bernilai boolean"
   ]
  },
  {
   "cell_type": "code",
   "execution_count": 10,
   "id": "1626a9f4-fa6c-4957-a632-fd3d7ef2f3cb",
   "metadata": {},
   "outputs": [],
   "source": [
    "dfselect1 = df[['log_category_id', 'log_views', 'comments_disabled', 'ratings_disabled', 'video_error_or_removed', \n",
    "                'log_dislikes', 'log_comment_count', 'log_no_tags', 'log_desc_len', 'log_len_title']]"
   ]
  },
  {
   "cell_type": "markdown",
   "id": "f63c80c8-ca9d-4f0b-8991-50746cc0b525",
   "metadata": {
    "tags": []
   },
   "source": [
    "### X and y Splitting"
   ]
  },
  {
   "cell_type": "code",
   "execution_count": 11,
   "id": "13a75c98-f860-4cba-b794-22a4f6c4ff09",
   "metadata": {},
   "outputs": [],
   "source": [
    "X= dfselect1[['log_category_id', 'log_dislikes', 'log_comment_count', 'log_no_tags', 'log_desc_len', 'log_len_title']]\n",
    "\n",
    "y= dfselect1['log_views']"
   ]
  },
  {
   "cell_type": "code",
   "execution_count": 12,
   "id": "9787e0af-b5e4-450d-97ad-de27999e1ad8",
   "metadata": {
    "tags": []
   },
   "outputs": [],
   "source": [
    "# Memanggil fungsi splitting_a\n",
    "\n",
    "X_train, X_test, y_train, y_test = splitting_a(X, y)"
   ]
  },
  {
   "cell_type": "markdown",
   "id": "a1b771ad-3401-4e72-8089-ee4ca792f90c",
   "metadata": {
    "tags": []
   },
   "source": [
    "### Model Training & Evaluation"
   ]
  },
  {
   "cell_type": "code",
   "execution_count": 13,
   "id": "fffcffd0-7d35-4efc-a9f1-7986b7621d6c",
   "metadata": {},
   "outputs": [
    {
     "data": {
      "text/plain": [
       "{'Linear Regression': {'MAE Train': 0.5978,\n",
       "  'MAE Test': 0.6039,\n",
       "  'RMSE Train': 0.8011,\n",
       "  'RMSE Test': 0.8159,\n",
       "  'R2 Train': 0.6644,\n",
       "  'R2 Test': 0.6585},\n",
       " 'Random Forest': {'MAE Train': 0.1413,\n",
       "  'MAE Test': 0.3781,\n",
       "  'RMSE Train': 0.1954,\n",
       "  'RMSE Test': 0.5151,\n",
       "  'R2 Train': 0.98,\n",
       "  'R2 Test': 0.8639},\n",
       " 'XG Boosting': {'MAE Train': 0.3065,\n",
       "  'MAE Test': 0.3793,\n",
       "  'RMSE Train': 0.4108,\n",
       "  'RMSE Test': 0.5058,\n",
       "  'R2 Train': 0.9117,\n",
       "  'R2 Test': 0.8687}}"
      ]
     },
     "execution_count": 13,
     "metadata": {},
     "output_type": "execute_result"
    }
   ],
   "source": [
    "# Memanggil fungsi modelling\n",
    "\n",
    "modelling(X_train, X_test, y_train, y_test)"
   ]
  },
  {
   "cell_type": "markdown",
   "id": "f7b59f41-5909-4614-a6e5-ed207b33aec7",
   "metadata": {
    "tags": []
   },
   "source": [
    "### Feature Importance"
   ]
  },
  {
   "cell_type": "code",
   "execution_count": 74,
   "id": "985920c3-ff9d-4f42-bc01-60a080350033",
   "metadata": {},
   "outputs": [
    {
     "name": "stdout",
     "output_type": "stream",
     "text": [
      "             Feature  Importance\n",
      "1       log_dislikes    0.774577\n",
      "2  log_comment_count    0.060647\n",
      "4       log_desc_len    0.049552\n",
      "0        category_id    0.040840\n",
      "5      log_len_title    0.038669\n",
      "3        log_no_tags    0.035716\n"
     ]
    }
   ],
   "source": [
    "# Memanggil fungsi get_feature\n",
    "\n",
    "get_feature(X_train, X_test, y_train, y_test, 'RF')"
   ]
  },
  {
   "cell_type": "code",
   "execution_count": null,
   "id": "92f01098-9025-4188-a685-e80d0f977204",
   "metadata": {},
   "outputs": [],
   "source": [
    "get_feature(X_train, X_test, y_train, y_test, 'XGB')"
   ]
  },
  {
   "cell_type": "markdown",
   "id": "693aa975-ab77-4b8c-b656-42e093da2e1c",
   "metadata": {},
   "source": [
    "### Hyperparameters Tunning"
   ]
  },
  {
   "cell_type": "code",
   "execution_count": 78,
   "id": "e8fc056d-422d-4852-8404-656c08508641",
   "metadata": {},
   "outputs": [],
   "source": [
    "param = {\n",
    "    'n_estimators': [100, 200, 300],\n",
    "    'max_depth': [None, 10, 20, 30],\n",
    "    'min_samples_split': [2, 5, 10],\n",
    "    'min_samples_leaf': [1, 2, 4],\n",
    "    'max_features': ['auto', 'sqrt', 'log2']\n",
    "}"
   ]
  },
  {
   "cell_type": "code",
   "execution_count": null,
   "id": "578bfc6b-7efb-4e26-82df-ab44d1259cc8",
   "metadata": {
    "tags": []
   },
   "outputs": [],
   "source": [
    "# Memanggil fungsi \n",
    "hypertune(X_train, X_test, y_train, y_test, 'RF', param)"
   ]
  },
  {
   "cell_type": "markdown",
   "id": "2ec9edf3-a372-4fce-8823-e7edb881e242",
   "metadata": {},
   "source": [
    "---"
   ]
  },
  {
   "cell_type": "markdown",
   "id": "5373fa6c-d21a-475b-b98b-d8bc4e140efd",
   "metadata": {
    "tags": []
   },
   "source": [
    "# Case 2\n",
    "\n",
    "- Normalisasi dilakukan setelah split data\n",
    "- Dengan mengikutsertakan fitur bernilai boolean"
   ]
  },
  {
   "cell_type": "code",
   "execution_count": 14,
   "id": "a059c0c7-1245-479e-9dc5-0b91f0072f69",
   "metadata": {},
   "outputs": [],
   "source": [
    "dfselect2 = df[['log_category_id', 'log_views', 'comments_disabled', 'ratings_disabled', 'video_error_or_removed', \n",
    "               'log_dislikes', 'log_comment_count', 'log_no_tags', 'log_desc_len', 'log_len_title']]"
   ]
  },
  {
   "cell_type": "markdown",
   "id": "83c81da8-d228-4627-9af7-5457b6cd7c87",
   "metadata": {
    "tags": []
   },
   "source": [
    "### X and y Splitting"
   ]
  },
  {
   "cell_type": "code",
   "execution_count": 15,
   "id": "e7564c0f-341d-41d6-b0bd-e130ef208f6f",
   "metadata": {},
   "outputs": [],
   "source": [
    "X= dfselect2.drop(columns= ['log_views'])\n",
    "y= dfselect2['log_views']"
   ]
  },
  {
   "cell_type": "code",
   "execution_count": 16,
   "id": "68889f39-5b2a-432f-a01f-17c117bbd2fd",
   "metadata": {},
   "outputs": [],
   "source": [
    "# Memanggil fungsi splitting_a\n",
    "\n",
    "X_train, X_test, y_train, y_test = splitting_a(X, y)"
   ]
  },
  {
   "cell_type": "markdown",
   "id": "39477f14-e636-4241-823e-828264490e48",
   "metadata": {
    "tags": []
   },
   "source": [
    "### Model Training & Evaluation"
   ]
  },
  {
   "cell_type": "code",
   "execution_count": 17,
   "id": "9995fbbd-37be-4c8c-8dce-0cb2430e22e1",
   "metadata": {
    "tags": []
   },
   "outputs": [
    {
     "data": {
      "text/plain": [
       "{'Linear Regression': {'MAE Train': 0.5287,\n",
       "  'MAE Test': 0.5296,\n",
       "  'RMSE Train': 0.6729,\n",
       "  'RMSE Test': 0.677,\n",
       "  'R2 Train': 0.7632,\n",
       "  'R2 Test': 0.7649},\n",
       " 'Random Forest': {'MAE Train': 0.1414,\n",
       "  'MAE Test': 0.3786,\n",
       "  'RMSE Train': 0.1952,\n",
       "  'RMSE Test': 0.5155,\n",
       "  'R2 Train': 0.9801,\n",
       "  'R2 Test': 0.8637},\n",
       " 'XG Boosting': {'MAE Train': 0.3054,\n",
       "  'MAE Test': 0.3787,\n",
       "  'RMSE Train': 0.4078,\n",
       "  'RMSE Test': 0.5055,\n",
       "  'R2 Train': 0.913,\n",
       "  'R2 Test': 0.8689}}"
      ]
     },
     "execution_count": 17,
     "metadata": {},
     "output_type": "execute_result"
    }
   ],
   "source": [
    "# Memanggil fungsi modelling\n",
    "\n",
    "modelling(X_train, X_test, y_train, y_test)"
   ]
  },
  {
   "cell_type": "markdown",
   "id": "1450541f-c572-4e30-9530-a5b6eb9af076",
   "metadata": {},
   "source": [
    "### Feature Importance"
   ]
  },
  {
   "cell_type": "code",
   "execution_count": null,
   "id": "cb675528-6c47-4d9f-be86-5aac95fedab1",
   "metadata": {},
   "outputs": [],
   "source": [
    "# Memanggil fungsi get_feature\n",
    "\n",
    "get_feature(X_train, X_test, y_train, y_test, 'RF')"
   ]
  },
  {
   "cell_type": "code",
   "execution_count": null,
   "id": "35e8a02d-6065-4fed-a24c-5b5754d10004",
   "metadata": {},
   "outputs": [],
   "source": [
    "get_feature(X_train, X_test, y_train, y_test, 'XGB')"
   ]
  },
  {
   "cell_type": "markdown",
   "id": "ba0d5ae2-8d1d-420a-a0cf-09dcba7850f8",
   "metadata": {},
   "source": [
    "### Hyperparameters Tunning"
   ]
  },
  {
   "cell_type": "code",
   "execution_count": null,
   "id": "0d7f9186-b143-4aba-bf01-3fbe88f14479",
   "metadata": {},
   "outputs": [],
   "source": [
    "# Memanggil fungsi\n",
    "\n",
    "hypertune(X_train, X_test, y_train, y_test, 'RF', param)"
   ]
  },
  {
   "cell_type": "markdown",
   "id": "455ba1ca-3060-4adf-a55b-cfd294ed1196",
   "metadata": {},
   "source": [
    "---"
   ]
  },
  {
   "cell_type": "markdown",
   "id": "fb21843a-685e-4892-9c5b-4e9e6ef3f731",
   "metadata": {
    "tags": []
   },
   "source": [
    "# Case 3\n",
    "\n",
    "- Normalisasi dilakukan sebelum split data\n",
    "- Tanpa mengikutsertakan fitur bernilai boolean"
   ]
  },
  {
   "cell_type": "code",
   "execution_count": 18,
   "id": "fbcfe96f-9a9c-4dd4-80c5-f404857a00f0",
   "metadata": {},
   "outputs": [],
   "source": [
    "dfselect3 = df[['log_category_id', 'log_views', 'comments_disabled', 'ratings_disabled', 'video_error_or_removed', \n",
    "                'log_dislikes', 'log_comment_count', 'log_no_tags', 'log_desc_len', 'log_len_title']]"
   ]
  },
  {
   "cell_type": "markdown",
   "id": "4c71a6c6-0d56-4c47-b3e1-cdf5b505350f",
   "metadata": {},
   "source": [
    "### X and y Splitting"
   ]
  },
  {
   "cell_type": "code",
   "execution_count": 19,
   "id": "555f5681-128b-4b23-babb-40e2f37f6704",
   "metadata": {},
   "outputs": [],
   "source": [
    "X= dfselect3[['log_category_id', 'log_dislikes', 'log_comment_count', 'log_no_tags', 'log_desc_len', 'log_len_title']]\n",
    "\n",
    "y= dfselect3['log_views']"
   ]
  },
  {
   "cell_type": "code",
   "execution_count": 20,
   "id": "6fc82987-b904-4b4e-a4a4-6195dbc72e04",
   "metadata": {},
   "outputs": [],
   "source": [
    "X_train, X_test, y_train, y_test = splitting_b(X, y)"
   ]
  },
  {
   "cell_type": "markdown",
   "id": "6700f554-0fb6-4605-9c70-45c408d51e9d",
   "metadata": {
    "tags": []
   },
   "source": [
    "### Model Training & Evaluation"
   ]
  },
  {
   "cell_type": "code",
   "execution_count": 21,
   "id": "b9275e78-2599-4bef-9a47-829b33c0a1f8",
   "metadata": {
    "tags": []
   },
   "outputs": [
    {
     "data": {
      "text/plain": [
       "{'Linear Regression': {'MAE Train': 0.5978,\n",
       "  'MAE Test': 0.6039,\n",
       "  'RMSE Train': 0.8011,\n",
       "  'RMSE Test': 0.8159,\n",
       "  'R2 Train': 0.6644,\n",
       "  'R2 Test': 0.6585},\n",
       " 'Random Forest': {'MAE Train': 0.1418,\n",
       "  'MAE Test': 0.3776,\n",
       "  'RMSE Train': 0.196,\n",
       "  'RMSE Test': 0.515,\n",
       "  'R2 Train': 0.9799,\n",
       "  'R2 Test': 0.8639},\n",
       " 'XG Boosting': {'MAE Train': 0.3065,\n",
       "  'MAE Test': 0.3793,\n",
       "  'RMSE Train': 0.4108,\n",
       "  'RMSE Test': 0.5058,\n",
       "  'R2 Train': 0.9117,\n",
       "  'R2 Test': 0.8687}}"
      ]
     },
     "execution_count": 21,
     "metadata": {},
     "output_type": "execute_result"
    }
   ],
   "source": [
    "# Memanggil fungsi modelling\n",
    "\n",
    "modelling(X_train, X_test, y_train, y_test)"
   ]
  },
  {
   "cell_type": "markdown",
   "id": "6b7dfc8f-537b-49b7-a3d0-1ffd47c5422f",
   "metadata": {},
   "source": [
    "### Feature Importance"
   ]
  },
  {
   "cell_type": "code",
   "execution_count": null,
   "id": "27d1e20e-5351-476a-9f9e-4679e1df2fec",
   "metadata": {},
   "outputs": [],
   "source": [
    "# Memanggil fungsi get_feature\n",
    "\n",
    "get_feature(X_train, X_test, y_train, y_test, 'RF')"
   ]
  },
  {
   "cell_type": "code",
   "execution_count": null,
   "id": "b54fddf3-e02f-4fe3-917b-904fb084d7ad",
   "metadata": {},
   "outputs": [],
   "source": [
    "get_feature(X_train, X_test, y_train, y_test, 'XGB')"
   ]
  },
  {
   "cell_type": "markdown",
   "id": "2c4413c4-8c66-47fb-a049-62e2a6412f68",
   "metadata": {},
   "source": [
    "### Hyperparameters Tunning"
   ]
  },
  {
   "cell_type": "code",
   "execution_count": null,
   "id": "ba95c149-b346-4df3-b43f-5afd7b50b479",
   "metadata": {},
   "outputs": [],
   "source": [
    "# Memanggil fungsi\n",
    "\n",
    "hypertune(X_train, X_test, y_train, y_test, 'RF', param)"
   ]
  },
  {
   "cell_type": "code",
   "execution_count": null,
   "id": "2788b083-64aa-4ca4-8bea-412c118322f9",
   "metadata": {},
   "outputs": [],
   "source": []
  },
  {
   "cell_type": "markdown",
   "id": "a7963510-a390-4152-ae63-fc4639f86207",
   "metadata": {},
   "source": [
    "---"
   ]
  },
  {
   "cell_type": "markdown",
   "id": "74b7a8fd-12df-4db5-a02e-adc381f241cd",
   "metadata": {
    "tags": []
   },
   "source": [
    "# Case 4\n",
    "- Normalisasi dilakukan sebelum split data\n",
    "- Dengan mengikutsertakan fitur bernilai boolean"
   ]
  },
  {
   "cell_type": "code",
   "execution_count": 22,
   "id": "beeffafa-55c5-4f28-a27e-878de0ef5c24",
   "metadata": {},
   "outputs": [],
   "source": [
    "dfselect4 = df[['log_category_id', 'log_views', 'comments_disabled', 'ratings_disabled', 'video_error_or_removed', \n",
    "                'log_dislikes', 'log_comment_count', 'log_no_tags', 'log_desc_len', 'log_len_title']]"
   ]
  },
  {
   "cell_type": "markdown",
   "id": "88ce56c8-92f0-4948-8cf4-5102ece802ed",
   "metadata": {},
   "source": [
    "### X and y Splitting"
   ]
  },
  {
   "cell_type": "code",
   "execution_count": 23,
   "id": "d43e7fc1-1691-45b9-9066-44c2f4435026",
   "metadata": {},
   "outputs": [],
   "source": [
    "X = dfselect4.drop(columns= ['log_views'])\n",
    "\n",
    "y= dfselect4['log_views']"
   ]
  },
  {
   "cell_type": "code",
   "execution_count": 24,
   "id": "ee2210b0-c2c2-447f-b409-ed383ff243a7",
   "metadata": {},
   "outputs": [],
   "source": [
    "X_train, X_test, y_train, y_test = splitting_b(X, y)"
   ]
  },
  {
   "cell_type": "markdown",
   "id": "4e8df162-cff5-4578-9278-1afa4963bdb6",
   "metadata": {},
   "source": [
    "### Model Training & Evaluation"
   ]
  },
  {
   "cell_type": "code",
   "execution_count": 25,
   "id": "3c574182-0d37-43ee-86e6-07fe4d9e6f0b",
   "metadata": {
    "tags": []
   },
   "outputs": [
    {
     "data": {
      "text/plain": [
       "{'Linear Regression': {'MAE Train': 0.5287,\n",
       "  'MAE Test': 0.5296,\n",
       "  'RMSE Train': 0.6729,\n",
       "  'RMSE Test': 0.677,\n",
       "  'R2 Train': 0.7632,\n",
       "  'R2 Test': 0.7649},\n",
       " 'Random Forest': {'MAE Train': 0.1417,\n",
       "  'MAE Test': 0.3785,\n",
       "  'RMSE Train': 0.1954,\n",
       "  'RMSE Test': 0.5156,\n",
       "  'R2 Train': 0.98,\n",
       "  'R2 Test': 0.8636},\n",
       " 'XG Boosting': {'MAE Train': 0.3054,\n",
       "  'MAE Test': 0.3787,\n",
       "  'RMSE Train': 0.4078,\n",
       "  'RMSE Test': 0.5055,\n",
       "  'R2 Train': 0.913,\n",
       "  'R2 Test': 0.8689}}"
      ]
     },
     "execution_count": 25,
     "metadata": {},
     "output_type": "execute_result"
    }
   ],
   "source": [
    "modelling(X_train, X_test, y_train, y_test)"
   ]
  },
  {
   "cell_type": "markdown",
   "id": "4119684f-5f6f-4e27-a909-b260fb90c0d4",
   "metadata": {},
   "source": [
    "### Feature Importance"
   ]
  },
  {
   "cell_type": "code",
   "execution_count": null,
   "id": "98793cff-d18e-48ef-bbe0-8c63d12367f9",
   "metadata": {},
   "outputs": [],
   "source": [
    "# Memanggil fungsi get_feature\n",
    "\n",
    "get_feature(X_train, X_test, y_train, y_test, 'RF')"
   ]
  },
  {
   "cell_type": "code",
   "execution_count": null,
   "id": "290f5757-f9bf-4e3b-98fd-eb457f302bb9",
   "metadata": {},
   "outputs": [],
   "source": [
    "get_feature(X_train, X_test, y_train, y_test, 'XGB')"
   ]
  },
  {
   "cell_type": "markdown",
   "id": "d4110364-27f1-4d8e-8e8e-403eae893adb",
   "metadata": {},
   "source": [
    "### Hyperparameters Tunning"
   ]
  },
  {
   "cell_type": "code",
   "execution_count": null,
   "id": "b7dd0dd4-6250-48b6-b9ae-751add34c664",
   "metadata": {},
   "outputs": [],
   "source": [
    "# Memanggil fungsi hypertune\n",
    "\n",
    "hypertune(X_train, X_test, y_train, y_test, 'RF', param)"
   ]
  }
 ],
 "metadata": {
  "kernelspec": {
   "display_name": "Python 3 (ipykernel)",
   "language": "python",
   "name": "python3"
  },
  "language_info": {
   "codemirror_mode": {
    "name": "ipython",
    "version": 3
   },
   "file_extension": ".py",
   "mimetype": "text/x-python",
   "name": "python",
   "nbconvert_exporter": "python",
   "pygments_lexer": "ipython3",
   "version": "3.10.9"
  }
 },
 "nbformat": 4,
 "nbformat_minor": 5
}
