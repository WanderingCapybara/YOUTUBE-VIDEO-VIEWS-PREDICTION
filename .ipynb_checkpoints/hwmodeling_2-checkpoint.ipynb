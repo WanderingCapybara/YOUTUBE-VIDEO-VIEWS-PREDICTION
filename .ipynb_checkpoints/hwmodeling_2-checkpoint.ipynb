{
 "cells": [
  {
   "cell_type": "code",
   "execution_count": 1,
   "id": "7c5f3ff5-65cd-484d-bd2d-edf361a44d9d",
   "metadata": {},
   "outputs": [],
   "source": [
    "import pandas as pd\n",
    "import numpy as np\n",
    "import warnings\n",
    "warnings.filterwarnings('ignore')"
   ]
  },
  {
   "cell_type": "code",
   "execution_count": 2,
   "id": "d62e5e24-b75e-4be5-b31b-7c146f3b1057",
   "metadata": {},
   "outputs": [],
   "source": [
    "from sklearn.linear_model import LinearRegression\n",
    "from sklearn.ensemble import RandomForestRegressor\n",
    "import xgboost as xgb\n",
    "from sklearn.metrics import mean_absolute_error, mean_squared_error, r2_score\n",
    "from sklearn.model_selection import train_test_split\n",
    "from sklearn.preprocessing import StandardScaler\n",
    "from sklearn.model_selection import GridSearchCV"
   ]
  },
  {
   "cell_type": "code",
   "execution_count": 3,
   "id": "95c6178c-8976-4d57-94fa-79626525e231",
   "metadata": {},
   "outputs": [],
   "source": [
    "df = pd.read_csv('hw_clean.csv')"
   ]
  },
  {
   "cell_type": "code",
   "execution_count": 4,
   "id": "87873bdd-fef4-49a9-b94b-7e2acbcd739a",
   "metadata": {},
   "outputs": [
    {
     "data": {
      "text/plain": [
       "Index(['trending_date', 'channel_title', 'category_id', 'views', 'likes',\n",
       "       'dislikes', 'comment_count', 'comments_disabled', 'ratings_disabled',\n",
       "       'video_error_or_removed', 'no_tags', 'desc_len', 'len_title',\n",
       "       'publish_date'],\n",
       "      dtype='object')"
      ]
     },
     "execution_count": 4,
     "metadata": {},
     "output_type": "execute_result"
    }
   ],
   "source": [
    "df.columns"
   ]
  },
  {
   "cell_type": "markdown",
   "id": "93814612-42ae-4d11-a64e-72d0992938fb",
   "metadata": {
    "tags": []
   },
   "source": [
    "# Feature Engineering"
   ]
  },
  {
   "cell_type": "markdown",
   "id": "6dc0b43d-b35f-4e1e-8f7c-7a0821f73558",
   "metadata": {
    "tags": []
   },
   "source": [
    "### Feature Extraction"
   ]
  },
  {
   "cell_type": "markdown",
   "id": "7f3aedc9-a118-429c-969b-10d3e66be1c9",
   "metadata": {},
   "source": [
    "**pub_to_trend**\n",
    "\n",
    "Jarak hari antara video dipublish hingga trending"
   ]
  },
  {
   "cell_type": "code",
   "execution_count": 5,
   "id": "c8e2d2de-5095-4723-b7dc-89102ee4b099",
   "metadata": {},
   "outputs": [],
   "source": [
    "df['pub_to_trend'] = (pd.to_datetime(df['trending_date']) - pd.to_datetime(df['publish_date'])).dt.days\n",
    "df['pub_to_trend'] = df['pub_to_trend'].astype(int)"
   ]
  },
  {
   "cell_type": "markdown",
   "id": "cebedda2-c698-49be-89a9-9c34fb475941",
   "metadata": {},
   "source": [
    "**channel_cluster**\n",
    "\n",
    "Klusterisasi channel berdasarkan rata-rata view per video"
   ]
  },
  {
   "cell_type": "code",
   "execution_count": 6,
   "id": "aa8d163b-731b-47c1-a2c1-7ae6ec5814a6",
   "metadata": {},
   "outputs": [],
   "source": [
    "df['channel_title']= df['channel_title'].str.lower()\n",
    "\n",
    "df['total_views'] = df['channel_title'].map(df.groupby('channel_title')['views'].sum())\n",
    "df['channel_count'] = df['channel_title'].map(df['channel_title'].value_counts())\n",
    "\n",
    "df['average_view'] = (df['total_views'] / df['channel_count']).round(2)"
   ]
  },
  {
   "cell_type": "code",
   "execution_count": 7,
   "id": "81073488-c2cd-4388-bb2e-2383a3e45e56",
   "metadata": {},
   "outputs": [],
   "source": [
    "# Klusterisasi channel\n",
    "\n",
    "channel_cluster = []\n",
    "for i in df['average_view']:\n",
    "    if i <= 100000:\n",
    "        i = 1;\n",
    "    elif i <= 1000000:\n",
    "        i= 2;\n",
    "    elif i <= 10000000:\n",
    "        i= 3;\n",
    "    elif i <= 100000000:\n",
    "        i= 4;\n",
    "    else:\n",
    "        i= 5\n",
    "    channel_cluster.append(i)\n",
    "\n",
    "df['channel_cluster'] = channel_cluster"
   ]
  },
  {
   "cell_type": "markdown",
   "id": "0d3b29ad-5b04-4bdc-8043-bcf54d79caf8",
   "metadata": {},
   "source": [
    "**is_weekend**\n",
    "\n",
    "Apakah video dipublish saat weekend"
   ]
  },
  {
   "cell_type": "code",
   "execution_count": 8,
   "id": "f7fcedf4-441a-49c8-bd99-f77e667d24b2",
   "metadata": {},
   "outputs": [],
   "source": [
    "timeget = []\n",
    "for i in df['publish_date'].str.split():\n",
    "    time_split = i[:5]\n",
    "    date_string = ' '.join(time_split)\n",
    "    timeget.append(date_string)"
   ]
  },
  {
   "cell_type": "code",
   "execution_count": 9,
   "id": "a590fb88-67e6-4829-a75e-d29356c40aeb",
   "metadata": {},
   "outputs": [],
   "source": [
    "df['publish_date'] =  pd.to_datetime(timeget)\n",
    "df['day_of_week'] = df['publish_date'].apply(lambda time: time.dayofweek)\n",
    "dmap = {0:'Mon',1:'Tue',2:'Wed',3:'Thu',4:'Fri',5:'Sat',6:'Sun'}"
   ]
  },
  {
   "cell_type": "code",
   "execution_count": 10,
   "id": "dcdb8464-5f11-438a-b180-50cfc09a53ba",
   "metadata": {},
   "outputs": [],
   "source": [
    "def is_weekend(dmap):\n",
    "    if dmap.weekday() < 5:\n",
    "        return False\n",
    "    else:\n",
    "        return True\n",
    "df['is_weekend'] = df['publish_date'].apply(is_weekend)"
   ]
  },
  {
   "cell_type": "code",
   "execution_count": 11,
   "id": "b8b65f04-ebfe-444a-8a76-81098c77d5cf",
   "metadata": {},
   "outputs": [
    {
     "data": {
      "text/html": [
       "<div>\n",
       "<style scoped>\n",
       "    .dataframe tbody tr th:only-of-type {\n",
       "        vertical-align: middle;\n",
       "    }\n",
       "\n",
       "    .dataframe tbody tr th {\n",
       "        vertical-align: top;\n",
       "    }\n",
       "\n",
       "    .dataframe thead th {\n",
       "        text-align: right;\n",
       "    }\n",
       "</style>\n",
       "<table border=\"1\" class=\"dataframe\">\n",
       "  <thead>\n",
       "    <tr style=\"text-align: right;\">\n",
       "      <th></th>\n",
       "      <th>trending_date</th>\n",
       "      <th>channel_title</th>\n",
       "      <th>category_id</th>\n",
       "      <th>views</th>\n",
       "      <th>likes</th>\n",
       "      <th>dislikes</th>\n",
       "      <th>comment_count</th>\n",
       "      <th>comments_disabled</th>\n",
       "      <th>ratings_disabled</th>\n",
       "      <th>video_error_or_removed</th>\n",
       "      <th>...</th>\n",
       "      <th>desc_len</th>\n",
       "      <th>len_title</th>\n",
       "      <th>publish_date</th>\n",
       "      <th>pub_to_trend</th>\n",
       "      <th>total_views</th>\n",
       "      <th>channel_count</th>\n",
       "      <th>average_view</th>\n",
       "      <th>channel_cluster</th>\n",
       "      <th>day_of_week</th>\n",
       "      <th>is_weekend</th>\n",
       "    </tr>\n",
       "  </thead>\n",
       "  <tbody>\n",
       "    <tr>\n",
       "      <th>0</th>\n",
       "      <td>2017-11-14</td>\n",
       "      <td>lokdhun punjabi</td>\n",
       "      <td>1</td>\n",
       "      <td>1096327</td>\n",
       "      <td>33966</td>\n",
       "      <td>798</td>\n",
       "      <td>882</td>\n",
       "      <td>False</td>\n",
       "      <td>False</td>\n",
       "      <td>False</td>\n",
       "      <td>...</td>\n",
       "      <td>920</td>\n",
       "      <td>81</td>\n",
       "      <td>2017-11-12</td>\n",
       "      <td>2</td>\n",
       "      <td>112759800</td>\n",
       "      <td>64</td>\n",
       "      <td>1761871.88</td>\n",
       "      <td>3</td>\n",
       "      <td>6</td>\n",
       "      <td>True</td>\n",
       "    </tr>\n",
       "    <tr>\n",
       "      <th>1</th>\n",
       "      <td>2017-11-14</td>\n",
       "      <td>hj news</td>\n",
       "      <td>25</td>\n",
       "      <td>590101</td>\n",
       "      <td>735</td>\n",
       "      <td>904</td>\n",
       "      <td>0</td>\n",
       "      <td>True</td>\n",
       "      <td>False</td>\n",
       "      <td>False</td>\n",
       "      <td>...</td>\n",
       "      <td>2232</td>\n",
       "      <td>58</td>\n",
       "      <td>2017-11-13</td>\n",
       "      <td>1</td>\n",
       "      <td>43188328</td>\n",
       "      <td>29</td>\n",
       "      <td>1489252.69</td>\n",
       "      <td>3</td>\n",
       "      <td>0</td>\n",
       "      <td>False</td>\n",
       "    </tr>\n",
       "    <tr>\n",
       "      <th>2</th>\n",
       "      <td>2017-11-14</td>\n",
       "      <td>tfpc</td>\n",
       "      <td>24</td>\n",
       "      <td>473988</td>\n",
       "      <td>2011</td>\n",
       "      <td>243</td>\n",
       "      <td>149</td>\n",
       "      <td>False</td>\n",
       "      <td>False</td>\n",
       "      <td>False</td>\n",
       "      <td>...</td>\n",
       "      <td>482</td>\n",
       "      <td>58</td>\n",
       "      <td>2017-11-12</td>\n",
       "      <td>2</td>\n",
       "      <td>10032989</td>\n",
       "      <td>38</td>\n",
       "      <td>264026.03</td>\n",
       "      <td>2</td>\n",
       "      <td>6</td>\n",
       "      <td>True</td>\n",
       "    </tr>\n",
       "    <tr>\n",
       "      <th>3</th>\n",
       "      <td>2017-11-14</td>\n",
       "      <td>eruma saani</td>\n",
       "      <td>23</td>\n",
       "      <td>1242680</td>\n",
       "      <td>70353</td>\n",
       "      <td>1624</td>\n",
       "      <td>2684</td>\n",
       "      <td>False</td>\n",
       "      <td>False</td>\n",
       "      <td>False</td>\n",
       "      <td>...</td>\n",
       "      <td>263</td>\n",
       "      <td>30</td>\n",
       "      <td>2017-11-12</td>\n",
       "      <td>2</td>\n",
       "      <td>30031173</td>\n",
       "      <td>32</td>\n",
       "      <td>938474.16</td>\n",
       "      <td>2</td>\n",
       "      <td>6</td>\n",
       "      <td>True</td>\n",
       "    </tr>\n",
       "    <tr>\n",
       "      <th>4</th>\n",
       "      <td>2017-11-14</td>\n",
       "      <td>filmylooks</td>\n",
       "      <td>24</td>\n",
       "      <td>464015</td>\n",
       "      <td>492</td>\n",
       "      <td>293</td>\n",
       "      <td>66</td>\n",
       "      <td>False</td>\n",
       "      <td>False</td>\n",
       "      <td>False</td>\n",
       "      <td>...</td>\n",
       "      <td>753</td>\n",
       "      <td>88</td>\n",
       "      <td>2017-11-13</td>\n",
       "      <td>1</td>\n",
       "      <td>27254945</td>\n",
       "      <td>56</td>\n",
       "      <td>486695.45</td>\n",
       "      <td>2</td>\n",
       "      <td>0</td>\n",
       "      <td>False</td>\n",
       "    </tr>\n",
       "  </tbody>\n",
       "</table>\n",
       "<p>5 rows × 21 columns</p>\n",
       "</div>"
      ],
      "text/plain": [
       "  trending_date    channel_title  category_id    views  likes  dislikes  \\\n",
       "0    2017-11-14  lokdhun punjabi            1  1096327  33966       798   \n",
       "1    2017-11-14          hj news           25   590101    735       904   \n",
       "2    2017-11-14             tfpc           24   473988   2011       243   \n",
       "3    2017-11-14      eruma saani           23  1242680  70353      1624   \n",
       "4    2017-11-14       filmylooks           24   464015    492       293   \n",
       "\n",
       "   comment_count  comments_disabled  ratings_disabled  video_error_or_removed  \\\n",
       "0            882              False             False                   False   \n",
       "1              0               True             False                   False   \n",
       "2            149              False             False                   False   \n",
       "3           2684              False             False                   False   \n",
       "4             66              False             False                   False   \n",
       "\n",
       "   ...  desc_len  len_title  publish_date pub_to_trend  total_views  \\\n",
       "0  ...       920         81    2017-11-12            2    112759800   \n",
       "1  ...      2232         58    2017-11-13            1     43188328   \n",
       "2  ...       482         58    2017-11-12            2     10032989   \n",
       "3  ...       263         30    2017-11-12            2     30031173   \n",
       "4  ...       753         88    2017-11-13            1     27254945   \n",
       "\n",
       "   channel_count  average_view  channel_cluster  day_of_week  is_weekend  \n",
       "0             64    1761871.88                3            6        True  \n",
       "1             29    1489252.69                3            0       False  \n",
       "2             38     264026.03                2            6        True  \n",
       "3             32     938474.16                2            6        True  \n",
       "4             56     486695.45                2            0       False  \n",
       "\n",
       "[5 rows x 21 columns]"
      ]
     },
     "execution_count": 11,
     "metadata": {},
     "output_type": "execute_result"
    }
   ],
   "source": [
    "df.head()"
   ]
  },
  {
   "cell_type": "markdown",
   "id": "acac470d-0088-4fdd-a81c-cfb3b5750364",
   "metadata": {
    "tags": []
   },
   "source": [
    "### Feature Encoding"
   ]
  },
  {
   "cell_type": "code",
   "execution_count": 12,
   "id": "a7ee7500-0d46-4a91-956a-5c3ebce9fda5",
   "metadata": {},
   "outputs": [],
   "source": [
    "# df = pd.get_dummies(df, columns=['category_id'], prefix=['cat_id'])"
   ]
  },
  {
   "cell_type": "code",
   "execution_count": 13,
   "id": "af044ef7-363c-4c15-be06-f1e9e7f3d646",
   "metadata": {},
   "outputs": [
    {
     "data": {
      "text/plain": [
       "Index(['trending_date', 'channel_title', 'category_id', 'views', 'likes',\n",
       "       'dislikes', 'comment_count', 'comments_disabled', 'ratings_disabled',\n",
       "       'video_error_or_removed', 'no_tags', 'desc_len', 'len_title',\n",
       "       'publish_date', 'pub_to_trend', 'total_views', 'channel_count',\n",
       "       'average_view', 'channel_cluster', 'day_of_week', 'is_weekend'],\n",
       "      dtype='object')"
      ]
     },
     "execution_count": 13,
     "metadata": {},
     "output_type": "execute_result"
    }
   ],
   "source": [
    "df.columns"
   ]
  },
  {
   "cell_type": "markdown",
   "id": "e4abb5c2-fecb-48e5-afb1-77db35343e62",
   "metadata": {},
   "source": [
    "### Feature Transformation"
   ]
  },
  {
   "cell_type": "code",
   "execution_count": 14,
   "id": "6ee1bac2-b78d-462c-8774-88ede4d9e4d3",
   "metadata": {},
   "outputs": [],
   "source": [
    "s_features = ['views', 'dislikes','comment_count','no_tags','desc_len','len_title', 'pub_to_trend']\n",
    "\n",
    "for var in s_features:\n",
    "    df['log_'+var]= (df[var]+1).apply(np.log)"
   ]
  },
  {
   "cell_type": "code",
   "execution_count": null,
   "id": "e692009c-6780-4208-8f5a-9017d36ea58e",
   "metadata": {},
   "outputs": [],
   "source": []
  },
  {
   "cell_type": "markdown",
   "id": "1f2f0758-7bca-43de-817c-078e857e32af",
   "metadata": {},
   "source": [
    "# Finalisasi Dataframe"
   ]
  },
  {
   "cell_type": "code",
   "execution_count": 15,
   "id": "b587efaa-2a66-4338-b83f-9157ddea5b71",
   "metadata": {},
   "outputs": [],
   "source": [
    "df_clean = df.drop(columns = ['trending_date', 'channel_title', 'views', 'likes', 'dislikes', 'comment_count', \n",
    "                              'no_tags', 'desc_len', 'len_title', 'publish_date', 'pub_to_trend', 'total_views', \n",
    "                              'channel_count', 'average_view', 'day_of_week', ])"
   ]
  },
  {
   "cell_type": "code",
   "execution_count": 16,
   "id": "addaa337-77c2-4fba-a3ff-481fa73f19ab",
   "metadata": {},
   "outputs": [
    {
     "data": {
      "text/plain": [
       "Index(['category_id', 'comments_disabled', 'ratings_disabled',\n",
       "       'video_error_or_removed', 'channel_cluster', 'is_weekend', 'log_views',\n",
       "       'log_dislikes', 'log_comment_count', 'log_no_tags', 'log_desc_len',\n",
       "       'log_len_title', 'log_pub_to_trend'],\n",
       "      dtype='object')"
      ]
     },
     "execution_count": 16,
     "metadata": {},
     "output_type": "execute_result"
    }
   ],
   "source": [
    "df_clean.columns"
   ]
  },
  {
   "cell_type": "markdown",
   "id": "ee7704ef-db5e-4930-aa4c-1e162bfe291b",
   "metadata": {
    "tags": []
   },
   "source": [
    "# Function"
   ]
  },
  {
   "cell_type": "markdown",
   "id": "4d5a2cf4-3e67-48df-84ca-f64968311511",
   "metadata": {
    "tags": []
   },
   "source": [
    "### Function: Splitting"
   ]
  },
  {
   "cell_type": "code",
   "execution_count": 17,
   "id": "4367462b-5861-4f33-ac6c-3716a99843cc",
   "metadata": {},
   "outputs": [],
   "source": [
    "# Normalisasi dilakukan setelah split data train-test\n",
    "\n",
    "def splitting_a(X, y):\n",
    "    \n",
    "    # Split data train-test\n",
    "    X_train, X_test, y_train, y_test = train_test_split(X, y, test_size=0.3, random_state=42)\n",
    "    \n",
    "    # Standarisasi data\n",
    "    ss = StandardScaler()\n",
    "    \n",
    "    # Fitur untuk distandarisasi\n",
    "    columns_to_standardize = ['channel_cluster', 'log_dislikes', 'log_comment_count', 'log_no_tags', 'log_desc_len', 'log_len_title', 'log_pub_to_trend']\n",
    "\n",
    "    # Standarisasi X_train\n",
    "    X_train[columns_to_standardize] = ss.fit_transform(X_train[columns_to_standardize])\n",
    "\n",
    "    # Standarisasi X_test\n",
    "    X_test[columns_to_standardize] = ss.transform(X_test[columns_to_standardize])\n",
    "    \n",
    "    return X_train, X_test, y_train, y_test"
   ]
  },
  {
   "cell_type": "code",
   "execution_count": 18,
   "id": "bc8468d1-9197-4528-a2a5-83abff6fc8be",
   "metadata": {
    "tags": []
   },
   "outputs": [],
   "source": [
    "# Normalisasi dilakukan sebelum split data train-test\n",
    "\n",
    "def splitting_b(X, y):\n",
    "    \n",
    "    # Standarisasi data\n",
    "    ss = StandardScaler()\n",
    "    \n",
    "    # Fitur untuk distandarisasi\n",
    "    columns_to_standardize = ['channel_cluster', 'log_dislikes', 'log_comment_count', 'log_no_tags', 'log_desc_len', 'log_len_title', 'log_pub_to_trend']\n",
    "    \n",
    "    # Standarisasi X\n",
    "    X[columns_to_standardize] = ss.fit_transform(X[columns_to_standardize])\n",
    "    \n",
    "    # Split data train-test\n",
    "    X_train, X_test, y_train, y_test = train_test_split(X, y, test_size=0.3, random_state=42)\n",
    "    \n",
    "    return X_train, X_test, y_train, y_test"
   ]
  },
  {
   "cell_type": "markdown",
   "id": "ca8d2f73-a9bd-4119-a787-e77d5b5766c7",
   "metadata": {},
   "source": [
    "### Function: Modelling"
   ]
  },
  {
   "cell_type": "code",
   "execution_count": 19,
   "id": "3786f5cf-487e-456c-8612-10863b996480",
   "metadata": {},
   "outputs": [],
   "source": [
    "def modelling(X_train, X_test, y_train, y_test):\n",
    "    \n",
    "    # Inisialisasi model\n",
    "    models = {\n",
    "        'Linear Regression': LinearRegression(),\n",
    "        'Random Forest': RandomForestRegressor(),\n",
    "        'XG Boosting': xgb.XGBRegressor()\n",
    "    }\n",
    "    \n",
    "    # Melatih dan menguji setiap model\n",
    "    results = {}\n",
    "    for model_name, model in models.items():\n",
    "        model.fit(X_train, y_train)\n",
    "        y_train_pred = model.predict(X_train)\n",
    "        y_test_pred = model.predict(X_test)\n",
    "        \n",
    "        mae_train = mean_absolute_error(y_train, y_train_pred).round(4)\n",
    "        mae_test = mean_absolute_error(y_test, y_test_pred).round(4)\n",
    "        \n",
    "        rmse_train = mean_squared_error(y_train, y_train_pred, squared=False).round(4)\n",
    "        rmse_test = mean_squared_error(y_test, y_test_pred, squared=False).round(4)\n",
    "        \n",
    "        r2_train = r2_score(y_train, y_train_pred).round(4)\n",
    "        r2_test = r2_score(y_test, y_test_pred).round(4)\n",
    "        \n",
    "        # Menampilkan score\n",
    "        results[model_name] = {\n",
    "            'MAE Train': mae_train,\n",
    "            'MAE Test': mae_test,\n",
    "            'RMSE Train': rmse_train,\n",
    "            'RMSE Test': rmse_test,\n",
    "            'R2 Train': r2_train,\n",
    "            'R2 Test': r2_test\n",
    "        }\n",
    "    \n",
    "    return results"
   ]
  },
  {
   "cell_type": "markdown",
   "id": "3a550029-258d-43b5-8f8f-72996b743e1c",
   "metadata": {
    "tags": []
   },
   "source": [
    "### Function: Feature Importance"
   ]
  },
  {
   "cell_type": "code",
   "execution_count": 20,
   "id": "ec499f66-7229-49db-b62c-0e71d2753559",
   "metadata": {},
   "outputs": [],
   "source": [
    "def get_feature(X_train, X_test, y_train, y_test, model_name):\n",
    "    \n",
    "    # Inisialisasi model\n",
    "    if model_name == 'RF':\n",
    "        model = RandomForestRegressor()\n",
    "    elif model_name == 'XGB':\n",
    "        model = xgb.XGBRegressor()\n",
    "    else:\n",
    "        raise ValueError(\"Model name not supported.\")\n",
    "    \n",
    "    # Melatih model\n",
    "    model.fit(X_train, y_train)\n",
    "    \n",
    "    # Mendapatkan skor fitur\n",
    "    feature_importance = model.feature_importances_\n",
    "\n",
    "    # Nama fitur dari X_train\n",
    "    feature_names = X_train.columns\n",
    "\n",
    "    # Membuat DataFrame untuk memudahkan analisis\n",
    "    feature_importance_df = pd.DataFrame({'Feature': feature_names, 'Importance': feature_importance})\n",
    "\n",
    "    # Mengurutkan fitur\n",
    "    feature_importance_df = feature_importance_df.sort_values(by='Importance', ascending=False)\n",
    "\n",
    "    # Menampilkan fitur\n",
    "    print(feature_importance_df)"
   ]
  },
  {
   "cell_type": "markdown",
   "id": "697ac8f7-40d9-406b-96d5-54c64f554283",
   "metadata": {
    "tags": []
   },
   "source": [
    "### Function: Hyperparameters Tuning"
   ]
  },
  {
   "cell_type": "code",
   "execution_count": 21,
   "id": "aee30164-78bc-45e7-87ca-18c16683f229",
   "metadata": {},
   "outputs": [],
   "source": [
    "def hypertune(X_train, X_test, y_train, y_test, model_name, hyperparameters=None):\n",
    "   \n",
    "    # Inisialisasi model\n",
    "    if model_name == 'RF':\n",
    "        model = RandomForestRegressor()\n",
    "    elif model_name == 'XGB':\n",
    "        model = xgb.XGBRegressor()\n",
    "    else:\n",
    "        raise ValueError(\"Model name not supported.\")\n",
    "    \n",
    "    # Menentukan hyperparameter yang akan ditune (jika tidak ada, gunakan default)\n",
    "    if hyperparameters is None:\n",
    "        hyperparameters = {}\n",
    "    \n",
    "    # Tuning hyperparameter menggunakan Grid Search\n",
    "    grid_search = GridSearchCV(model, hyperparameters, cv=5)\n",
    "    grid_search.fit(X_train, y_train)\n",
    "    \n",
    "    # Mendapatkan model terbaik setelah tuning\n",
    "    best_model = grid_search.best_estimator_\n",
    "    \n",
    "    # Evaluasi model terbaik pada data test\n",
    "    test_score = best_model.score(X_test, y_test)\n",
    "    \n",
    "    # Prediksi nilai target pada data test menggunakan model terbaik\n",
    "    y_pred = best_model.predict(X_test)\n",
    "    \n",
    "    # Menghitung MAE, RMSE, dan R-squared pada data test\n",
    "    mae = mean_absolute_error(y_test, y_pred)\n",
    "    rmse = mean_squared_error(y_test, y_pred, squared=False)\n",
    "    r2 = r2_score(y_test, y_pred)\n",
    "    \n",
    "    return best_model, grid_search.best_params_, test_score, mae, rmse, r2"
   ]
  },
  {
   "cell_type": "code",
   "execution_count": null,
   "id": "803bad6f-7fe9-4aa4-8c94-d585760cd51a",
   "metadata": {},
   "outputs": [],
   "source": []
  },
  {
   "cell_type": "markdown",
   "id": "f062c9d1-3b98-4328-b3c4-d175d0eb4131",
   "metadata": {
    "tags": []
   },
   "source": [
    "# Modeling and Evaluation"
   ]
  },
  {
   "cell_type": "markdown",
   "id": "f63c80c8-ca9d-4f0b-8991-50746cc0b525",
   "metadata": {
    "tags": []
   },
   "source": [
    "### X and y Splitting"
   ]
  },
  {
   "cell_type": "code",
   "execution_count": 22,
   "id": "13a75c98-f860-4cba-b794-22a4f6c4ff09",
   "metadata": {},
   "outputs": [],
   "source": [
    "X= df_clean.drop(columns= ['log_views'])\n",
    "\n",
    "y= df_clean['log_views']"
   ]
  },
  {
   "cell_type": "code",
   "execution_count": 23,
   "id": "389ab486-ed76-427f-a23c-b957d5db50f3",
   "metadata": {},
   "outputs": [],
   "source": [
    "X_train, X_test, y_train, y_test = splitting_a(X, y)"
   ]
  },
  {
   "cell_type": "markdown",
   "id": "a1b771ad-3401-4e72-8089-ee4ca792f90c",
   "metadata": {
    "tags": []
   },
   "source": [
    "### Model Training & Evaluation"
   ]
  },
  {
   "cell_type": "code",
   "execution_count": 24,
   "id": "ec526c83-1f83-4f76-8909-0be8068da631",
   "metadata": {},
   "outputs": [
    {
     "data": {
      "text/plain": [
       "{'Linear Regression': {'MAE Train': 0.4498,\n",
       "  'MAE Test': 0.4475,\n",
       "  'RMSE Train': 0.5698,\n",
       "  'RMSE Test': 0.5683,\n",
       "  'R2 Train': 0.8302,\n",
       "  'R2 Test': 0.8343},\n",
       " 'Random Forest': {'MAE Train': 0.1311,\n",
       "  'MAE Test': 0.3502,\n",
       "  'RMSE Train': 0.1796,\n",
       "  'RMSE Test': 0.4753,\n",
       "  'R2 Train': 0.9831,\n",
       "  'R2 Test': 0.8841},\n",
       " 'XG Boosting': {'MAE Train': 0.265,\n",
       "  'MAE Test': 0.3302,\n",
       "  'RMSE Train': 0.3569,\n",
       "  'RMSE Test': 0.4418,\n",
       "  'R2 Train': 0.9334,\n",
       "  'R2 Test': 0.8999}}"
      ]
     },
     "execution_count": 24,
     "metadata": {},
     "output_type": "execute_result"
    }
   ],
   "source": [
    "modelling(X_train, X_test, y_train, y_test)"
   ]
  },
  {
   "cell_type": "markdown",
   "id": "36d872bf-98ec-438d-b671-d4e6922c19d4",
   "metadata": {
    "tags": []
   },
   "source": [
    "### Feature Importance"
   ]
  },
  {
   "cell_type": "code",
   "execution_count": 25,
   "id": "f6ce8d20-d31b-4976-920a-34689e036fc9",
   "metadata": {
    "tags": []
   },
   "outputs": [
    {
     "name": "stdout",
     "output_type": "stream",
     "text": [
      "                   Feature  Importance\n",
      "6             log_dislikes    0.696360\n",
      "4          channel_cluster    0.134762\n",
      "7        log_comment_count    0.034442\n",
      "9             log_desc_len    0.033637\n",
      "10           log_len_title    0.028108\n",
      "8              log_no_tags    0.024520\n",
      "11        log_pub_to_trend    0.024473\n",
      "0              category_id    0.014738\n",
      "2         ratings_disabled    0.005484\n",
      "5               is_weekend    0.002928\n",
      "1        comments_disabled    0.000517\n",
      "3   video_error_or_removed    0.000031\n"
     ]
    }
   ],
   "source": [
    "get_feature(X_train, X_test, y_train, y_test, 'RF')"
   ]
  },
  {
   "cell_type": "code",
   "execution_count": 26,
   "id": "5c512042-b852-40e8-a7ea-db507260b9f7",
   "metadata": {
    "tags": []
   },
   "outputs": [
    {
     "name": "stdout",
     "output_type": "stream",
     "text": [
      "                   Feature  Importance\n",
      "6             log_dislikes    0.461378\n",
      "4          channel_cluster    0.321515\n",
      "2         ratings_disabled    0.077891\n",
      "11        log_pub_to_trend    0.049675\n",
      "3   video_error_or_removed    0.018596\n",
      "0              category_id    0.015913\n",
      "7        log_comment_count    0.012157\n",
      "10           log_len_title    0.010907\n",
      "9             log_desc_len    0.010767\n",
      "8              log_no_tags    0.010551\n",
      "1        comments_disabled    0.006283\n",
      "5               is_weekend    0.004369\n"
     ]
    }
   ],
   "source": [
    "get_feature(X_train, X_test, y_train, y_test, 'XGB')"
   ]
  },
  {
   "cell_type": "markdown",
   "id": "0daf8359-6c1b-4ac7-ad7b-b432e4fce268",
   "metadata": {
    "jp-MarkdownHeadingCollapsed": true,
    "tags": []
   },
   "source": [
    "### Hyperparameters Tunning"
   ]
  },
  {
   "cell_type": "code",
   "execution_count": 25,
   "id": "0da8a1d7-75ce-485b-a472-c7dce0eafd3c",
   "metadata": {},
   "outputs": [],
   "source": [
    "# RF\n",
    "hyperparameters = {'n_estimators': [50, 100],  # Jumlah pohon dalam hutan\n",
    "                   'max_depth': [10, 20],  # Kedalaman maksimum setiap pohon\n",
    "                   'min_samples_split': [5, 10],  # Jumlah sampel minimum yang diperlukan untuk membagi simpul\n",
    "                   'min_samples_leaf': [2, 4],  # Jumlah sampel minimum yang diperlukan pada simpul daun\n",
    "                   'max_features': ['auto', 'sqrt'],  # Jumlah fitur yang akan dipertimbangkan pada setiap pemisahan simpul\n",
    "                   'bootstrap': [True, False]  # Apakah sampel bootstrap harus digunakan saat membangun setiap pohon\n",
    "                  }"
   ]
  },
  {
   "cell_type": "code",
   "execution_count": 26,
   "id": "80293e2d-8e69-4dbb-a421-c623db4afabd",
   "metadata": {},
   "outputs": [
    {
     "data": {
      "text/plain": [
       "(RandomForestRegressor(bootstrap=False, max_depth=20, max_features='sqrt',\n",
       "                       min_samples_leaf=2, min_samples_split=5),\n",
       " {'bootstrap': False,\n",
       "  'max_depth': 20,\n",
       "  'max_features': 'sqrt',\n",
       "  'min_samples_leaf': 2,\n",
       "  'min_samples_split': 5,\n",
       "  'n_estimators': 100},\n",
       " 0.8923007424623591,\n",
       " 0.34008585587452816,\n",
       " 0.458178403411595,\n",
       " 0.8923007424623591)"
      ]
     },
     "execution_count": 26,
     "metadata": {},
     "output_type": "execute_result"
    }
   ],
   "source": [
    "hypertune(X_train, X_test, y_train, y_test, 'RF', hyperparameters)"
   ]
  },
  {
   "cell_type": "code",
   "execution_count": 27,
   "id": "8c3dc44a-1d2e-4db7-bcd8-db535c5b30f5",
   "metadata": {
    "tags": []
   },
   "outputs": [],
   "source": [
    "# XGB\n",
    "\n",
    "hyperparameters = {'learning_rate': [0.05, 0.1],\n",
    "                   'n_estimators': [100, 200],\n",
    "                   'max_depth': [3, 4],\n",
    "                   'min_child_weight': [1, 5],\n",
    "                   'subsample': [0.8, 0.9],\n",
    "                   'colsample_bytree': [0.8, 0.9],\n",
    "                   'gamma': [0, 0.1],\n",
    "                   'reg_alpha': [0, 0.1],\n",
    "                   'reg_lambda': [0, 0.1]\n",
    "                  }"
   ]
  },
  {
   "cell_type": "code",
   "execution_count": 28,
   "id": "36c718dd-1ff0-4aa6-9e26-bd20c5a32abc",
   "metadata": {},
   "outputs": [
    {
     "data": {
      "text/plain": [
       "(XGBRegressor(base_score=None, booster=None, callbacks=None,\n",
       "              colsample_bylevel=None, colsample_bynode=None,\n",
       "              colsample_bytree=0.9, early_stopping_rounds=None,\n",
       "              enable_categorical=False, eval_metric=None, feature_types=None,\n",
       "              gamma=0, gpu_id=None, grow_policy=None, importance_type=None,\n",
       "              interaction_constraints=None, learning_rate=0.1, max_bin=None,\n",
       "              max_cat_threshold=None, max_cat_to_onehot=None,\n",
       "              max_delta_step=None, max_depth=4, max_leaves=None,\n",
       "              min_child_weight=1, missing=nan, monotone_constraints=None,\n",
       "              n_estimators=200, n_jobs=None, num_parallel_tree=None,\n",
       "              predictor=None, random_state=None, ...),\n",
       " {'colsample_bytree': 0.9,\n",
       "  'gamma': 0,\n",
       "  'learning_rate': 0.1,\n",
       "  'max_depth': 4,\n",
       "  'min_child_weight': 1,\n",
       "  'n_estimators': 200,\n",
       "  'reg_alpha': 0,\n",
       "  'reg_lambda': 0,\n",
       "  'subsample': 0.9},\n",
       " 0.8784610348040746,\n",
       " 0.3722992090632409,\n",
       " 0.4867276597734377,\n",
       " 0.8784610348040746)"
      ]
     },
     "execution_count": 28,
     "metadata": {},
     "output_type": "execute_result"
    }
   ],
   "source": [
    "hypertune(X_train, X_test, y_train, y_test, 'XGB', hyperparameters)"
   ]
  },
  {
   "cell_type": "markdown",
   "id": "8f9be672-1c58-4003-a12a-43ebe6f67f69",
   "metadata": {
    "tags": []
   },
   "source": [
    "### Model with hyperparameters tunned"
   ]
  },
  {
   "cell_type": "code",
   "execution_count": 27,
   "id": "f82d96ca-5565-4fa2-8424-7245c99f40e7",
   "metadata": {
    "tags": []
   },
   "outputs": [],
   "source": [
    "def modelling_a(X_train, X_test, y_train, y_test):\n",
    "    \n",
    "    # Initialize models with corrected parameter syntax\n",
    "    models = {\n",
    "        'Linear Regression': LinearRegression(),\n",
    "        'Random Forest': RandomForestRegressor(\n",
    "            bootstrap=False,\n",
    "            max_depth=20,\n",
    "            max_features='sqrt',\n",
    "            min_samples_leaf=2,\n",
    "            min_samples_split=5,\n",
    "            n_estimators=100\n",
    "        ),\n",
    "        'XG Boosting': xgb.XGBRegressor(\n",
    "            colsample_bytree=0.9,\n",
    "            gamma=0,\n",
    "            learning_rate=0.1,\n",
    "            max_depth=4,\n",
    "            min_child_weight=1,\n",
    "            n_estimators=200,\n",
    "            reg_alpha=0,\n",
    "            reg_lambda=0,\n",
    "            subsample=0.9\n",
    "        )\n",
    "    }\n",
    "    \n",
    "    # Train and test each model\n",
    "    results = {}\n",
    "    for model_name, model in models.items():\n",
    "        model.fit(X_train, y_train)\n",
    "        y_train_pred = model.predict(X_train)\n",
    "        y_test_pred = model.predict(X_test)\n",
    "        \n",
    "        mae_train = mean_absolute_error(y_train, y_train_pred).round(4)\n",
    "        mae_test = mean_absolute_error(y_test, y_test_pred).round(4)\n",
    "        \n",
    "        rmse_train = mean_squared_error(y_train, y_train_pred, squared=False).round(4)\n",
    "        rmse_test = mean_squared_error(y_test, y_test_pred, squared=False).round(4)\n",
    "        \n",
    "        r2_train = r2_score(y_train, y_train_pred).round(4)\n",
    "        r2_test = r2_score(y_test, y_test_pred).round(4)\n",
    "        \n",
    "        # Display scores\n",
    "        results[model_name] = {\n",
    "            'MAE Train': mae_train,\n",
    "            'MAE Test': mae_test,\n",
    "            'RMSE Train': rmse_train,\n",
    "            'RMSE Test': rmse_test,\n",
    "            'R2 Train': r2_train,\n",
    "            'R2 Test': r2_test\n",
    "        }\n",
    "    \n",
    "    return results"
   ]
  },
  {
   "cell_type": "code",
   "execution_count": 28,
   "id": "4c910202-757c-4fa9-ad95-0e46b49ca078",
   "metadata": {},
   "outputs": [
    {
     "data": {
      "text/plain": [
       "{'Linear Regression': {'MAE Train': 0.4498,\n",
       "  'MAE Test': 0.4475,\n",
       "  'RMSE Train': 0.5698,\n",
       "  'RMSE Test': 0.5683,\n",
       "  'R2 Train': 0.8302,\n",
       "  'R2 Test': 0.8343},\n",
       " 'Random Forest': {'MAE Train': 0.1481,\n",
       "  'MAE Test': 0.3408,\n",
       "  'RMSE Train': 0.2088,\n",
       "  'RMSE Test': 0.4589,\n",
       "  'R2 Train': 0.9772,\n",
       "  'R2 Test': 0.8919},\n",
       " 'XG Boosting': {'MAE Train': 0.3573,\n",
       "  'MAE Test': 0.3723,\n",
       "  'RMSE Train': 0.4671,\n",
       "  'RMSE Test': 0.4867,\n",
       "  'R2 Train': 0.8859,\n",
       "  'R2 Test': 0.8785}}"
      ]
     },
     "execution_count": 28,
     "metadata": {},
     "output_type": "execute_result"
    }
   ],
   "source": [
    "modelling_a(X_train, X_test, y_train, y_test)"
   ]
  },
  {
   "cell_type": "markdown",
   "id": "fce26c66-124f-488d-86dd-1350342b1e69",
   "metadata": {},
   "source": [
    "### SHAP Values"
   ]
  },
  {
   "cell_type": "code",
   "execution_count": 29,
   "id": "cf0249ae-05b8-4e68-b8d7-bb00c0a9978e",
   "metadata": {},
   "outputs": [
    {
     "data": {
      "text/html": [
       "<style>#sk-container-id-1 {color: black;background-color: white;}#sk-container-id-1 pre{padding: 0;}#sk-container-id-1 div.sk-toggleable {background-color: white;}#sk-container-id-1 label.sk-toggleable__label {cursor: pointer;display: block;width: 100%;margin-bottom: 0;padding: 0.3em;box-sizing: border-box;text-align: center;}#sk-container-id-1 label.sk-toggleable__label-arrow:before {content: \"▸\";float: left;margin-right: 0.25em;color: #696969;}#sk-container-id-1 label.sk-toggleable__label-arrow:hover:before {color: black;}#sk-container-id-1 div.sk-estimator:hover label.sk-toggleable__label-arrow:before {color: black;}#sk-container-id-1 div.sk-toggleable__content {max-height: 0;max-width: 0;overflow: hidden;text-align: left;background-color: #f0f8ff;}#sk-container-id-1 div.sk-toggleable__content pre {margin: 0.2em;color: black;border-radius: 0.25em;background-color: #f0f8ff;}#sk-container-id-1 input.sk-toggleable__control:checked~div.sk-toggleable__content {max-height: 200px;max-width: 100%;overflow: auto;}#sk-container-id-1 input.sk-toggleable__control:checked~label.sk-toggleable__label-arrow:before {content: \"▾\";}#sk-container-id-1 div.sk-estimator input.sk-toggleable__control:checked~label.sk-toggleable__label {background-color: #d4ebff;}#sk-container-id-1 div.sk-label input.sk-toggleable__control:checked~label.sk-toggleable__label {background-color: #d4ebff;}#sk-container-id-1 input.sk-hidden--visually {border: 0;clip: rect(1px 1px 1px 1px);clip: rect(1px, 1px, 1px, 1px);height: 1px;margin: -1px;overflow: hidden;padding: 0;position: absolute;width: 1px;}#sk-container-id-1 div.sk-estimator {font-family: monospace;background-color: #f0f8ff;border: 1px dotted black;border-radius: 0.25em;box-sizing: border-box;margin-bottom: 0.5em;}#sk-container-id-1 div.sk-estimator:hover {background-color: #d4ebff;}#sk-container-id-1 div.sk-parallel-item::after {content: \"\";width: 100%;border-bottom: 1px solid gray;flex-grow: 1;}#sk-container-id-1 div.sk-label:hover label.sk-toggleable__label {background-color: #d4ebff;}#sk-container-id-1 div.sk-serial::before {content: \"\";position: absolute;border-left: 1px solid gray;box-sizing: border-box;top: 0;bottom: 0;left: 50%;z-index: 0;}#sk-container-id-1 div.sk-serial {display: flex;flex-direction: column;align-items: center;background-color: white;padding-right: 0.2em;padding-left: 0.2em;position: relative;}#sk-container-id-1 div.sk-item {position: relative;z-index: 1;}#sk-container-id-1 div.sk-parallel {display: flex;align-items: stretch;justify-content: center;background-color: white;position: relative;}#sk-container-id-1 div.sk-item::before, #sk-container-id-1 div.sk-parallel-item::before {content: \"\";position: absolute;border-left: 1px solid gray;box-sizing: border-box;top: 0;bottom: 0;left: 50%;z-index: -1;}#sk-container-id-1 div.sk-parallel-item {display: flex;flex-direction: column;z-index: 1;position: relative;background-color: white;}#sk-container-id-1 div.sk-parallel-item:first-child::after {align-self: flex-end;width: 50%;}#sk-container-id-1 div.sk-parallel-item:last-child::after {align-self: flex-start;width: 50%;}#sk-container-id-1 div.sk-parallel-item:only-child::after {width: 0;}#sk-container-id-1 div.sk-dashed-wrapped {border: 1px dashed gray;margin: 0 0.4em 0.5em 0.4em;box-sizing: border-box;padding-bottom: 0.4em;background-color: white;}#sk-container-id-1 div.sk-label label {font-family: monospace;font-weight: bold;display: inline-block;line-height: 1.2em;}#sk-container-id-1 div.sk-label-container {text-align: center;}#sk-container-id-1 div.sk-container {/* jupyter's `normalize.less` sets `[hidden] { display: none; }` but bootstrap.min.css set `[hidden] { display: none !important; }` so we also need the `!important` here to be able to override the default hidden behavior on the sphinx rendered scikit-learn.org. See: https://github.com/scikit-learn/scikit-learn/issues/21755 */display: inline-block !important;position: relative;}#sk-container-id-1 div.sk-text-repr-fallback {display: none;}</style><div id=\"sk-container-id-1\" class=\"sk-top-container\"><div class=\"sk-text-repr-fallback\"><pre>RandomForestRegressor()</pre><b>In a Jupyter environment, please rerun this cell to show the HTML representation or trust the notebook. <br />On GitHub, the HTML representation is unable to render, please try loading this page with nbviewer.org.</b></div><div class=\"sk-container\" hidden><div class=\"sk-item\"><div class=\"sk-estimator sk-toggleable\"><input class=\"sk-toggleable__control sk-hidden--visually\" id=\"sk-estimator-id-1\" type=\"checkbox\" checked><label for=\"sk-estimator-id-1\" class=\"sk-toggleable__label sk-toggleable__label-arrow\">RandomForestRegressor</label><div class=\"sk-toggleable__content\"><pre>RandomForestRegressor()</pre></div></div></div></div></div>"
      ],
      "text/plain": [
       "RandomForestRegressor()"
      ]
     },
     "execution_count": 29,
     "metadata": {},
     "output_type": "execute_result"
    }
   ],
   "source": [
    "rf_regressor = RandomForestRegressor()\n",
    "rf_regressor.fit(X_train, y_train)"
   ]
  },
  {
   "cell_type": "code",
   "execution_count": 30,
   "id": "c46fe838-68f4-4550-b165-08986260594b",
   "metadata": {},
   "outputs": [
    {
     "data": {
      "image/png": "[encoded data removed]",
      "text/plain": [
       "<Figure size 800x630 with 1 Axes>"
      ]
     },
     "metadata": {},
     "output_type": "display_data"
    }
   ],
   "source": [
    "import shap\n",
    "\n",
    "explainer = shap.TreeExplainer(rf_regressor)\n",
    "shap_values = explainer.shap_values(X_test)\n",
    "shap.summary_plot(shap_values, X_test, plot_type=\"bar\", class_names=[\"Label Negatif\", \"Label Positif\"])"
   ]
  },
  {
   "cell_type": "code",
   "execution_count": null,
   "id": "0bcac957-1e40-417e-a818-5ab7aea0e797",
   "metadata": {},
   "outputs": [],
   "source": []
  }
 ],
 "metadata": {
  "kernelspec": {
   "display_name": "Python 3 (ipykernel)",
   "language": "python",
   "name": "python3"
  },
  "language_info": {
   "codemirror_mode": {
    "name": "ipython",
    "version": 3
   },
   "file_extension": ".py",
   "mimetype": "text/x-python",
   "name": "python",
   "nbconvert_exporter": "python",
   "pygments_lexer": "ipython3",
   "version": "3.10.9"
  }
 },
 "nbformat": 4,
 "nbformat_minor": 5
}
